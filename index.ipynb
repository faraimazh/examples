{
 "cells": [
  {
   "cell_type": "markdown",
   "metadata": {},
   "source": [
    "# Examples"
   ]
  },
  {
   "cell_type": "markdown",
   "metadata": {},
   "source": [
    "Below are examples which demonstrate some applications of scikit-rf. They are written in the form of [ipython notebooks](http://ipython.org/notebook.html).  These live in https://github.com/scikit-rf/examples."
   ]
  },
  {
   "cell_type": "markdown",
   "metadata": {},
   "source": [
    "## Metrology"
   ]
  },
  {
   "cell_type": "markdown",
   "metadata": {
    "nbsphinx-toctree": {
     "maxdepth": 1
    }
   },
   "source": [
    "- [Calibration With Three Receivers](three_receiver_cal/Calibration With Three Receivers.ipynb)\n",
    "\n",
    "- [TwoPortOnePath, EnhancedResponse, and FakeFlip](three_receiver_cal/TwoPortOnePath, EnhancedResponse, and FakeFlip.ipynb)\n",
    "\n",
    "- [One Port, Two-Tier Calibration](oneport_tiered_calibration/One Port Tiered Calibration.ipynb )\n",
    "\n",
    "- [Measuring a Mutiport Device with a 2-Port Network Analyzer](Measuring a Mutiport Device with a 2-Port Network Analyzer.ipynb)"
   ]
  },
  {
   "cell_type": "code",
   "execution_count": null,
   "metadata": {
    "collapsed": true,
    "nbsphinx-toctree": {
     "maxdepth": 1
    }
   },
   "outputs": [],
   "source": []
  },
  {
   "cell_type": "markdown",
   "metadata": {
    "nbsphinx-toctree": {}
   },
   "source": [
    "## Network Theory\n",
    "\n",
    "- [Time Domain](Time Domain.ipynb)\n",
    "\n",
    "- [Properties of Rectangular Waveguides](Properties of Rectangular Waveguides.ipynb)\n",
    "\n",
    "- [Renormalizing S-parameters](Renormalizing S-parameters.ipynb)\n",
    "\n",
    "- [Interactive Mismatched Line](Interactive Mismatched Line.ipynb)\n",
    "\n",
    "## NetworkSets\n",
    "\n",
    "* [Sorting Network Sets](Sorting Network Sets.ipynb)\n",
    "\n",
    "## Plotting\n",
    "\n",
    "- [Modeling RG-58](Modeling RG-58.ipynb)\n",
    "\n",
    "- [Plots With Plotly](Plots With Plotly.ipynb)\n",
    "\n",
    "- [XKCD styling](XKCD styling.ipynb)\n",
    "\n",
    "- [mpl-styles](mpl-styles.ipynb)\n",
    "\n",
    "## Instrument Control/Automation\n",
    "\n",
    "- [VNA Control](VNA Control.ipynb)\n",
    "\n",
    "## Internals\n",
    "\n",
    "- [Network v2](Network2.ipynb)"
   ]
  },
  {
   "cell_type": "code",
   "execution_count": null,
   "metadata": {
    "collapsed": true
   },
   "outputs": [],
   "source": []
  },
  {
   "cell_type": "code",
   "execution_count": null,
   "metadata": {
    "collapsed": true
   },
   "outputs": [],
   "source": []
  }
 ],
 "metadata": {
  "anaconda-cloud": {},
  "celltoolbar": "Edit Metadata",
  "kernelspec": {
   "display_name": "Python [default]",
   "language": "python",
   "name": "python3"
  },
  "language_info": {
   "codemirror_mode": {
    "name": "ipython",
    "version": 3
   },
   "file_extension": ".py",
   "mimetype": "text/x-python",
   "name": "python",
   "nbconvert_exporter": "python",
   "pygments_lexer": "ipython3",
   "version": "3.5.2"
  }
 },
 "nbformat": 4,
 "nbformat_minor": 0
}
